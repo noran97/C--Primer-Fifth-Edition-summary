{
  "nbformat": 4,
  "nbformat_minor": 0,
  "metadata": {
    "colab": {
      "provenance": [],
      "authorship_tag": "ABX9TyO+VP821/o9dFQ9oJ7W9Eiy",
      "include_colab_link": true
    },
    "kernelspec": {
      "name": "python3",
      "display_name": "Python 3"
    },
    "language_info": {
      "name": "python"
    }
  },
  "cells": [
    {
      "cell_type": "markdown",
      "metadata": {
        "id": "view-in-github",
        "colab_type": "text"
      },
      "source": [
        "<a href=\"https://colab.research.google.com/github/noran97/NTI-AI-projects/blob/main/LogRegVSRandomForest_digits.ipynb\" target=\"_parent\"><img src=\"https://colab.research.google.com/assets/colab-badge.svg\" alt=\"Open In Colab\"/></a>"
      ]
    },
    {
      "cell_type": "code",
      "execution_count": null,
      "metadata": {
        "id": "rqKNVTqcagPx"
      },
      "outputs": [],
      "source": [
        "from sklearn import datasets, metrics\n",
        "from sklearn.model_selection import train_test_split\n",
        "from sklearn.linear_model import LogisticRegression\n",
        "import matplotlib.pyplot as plt\n",
        "from sklearn.preprocessing import LabelEncoder,StandardScaler\n",
        "import pandas as pd"
      ]
    },
    {
      "cell_type": "code",
      "source": [
        "digits = datasets.load_digits()\n",
        "print(digits.data.shape)\n",
        "plt.gray()\n",
        "plt.matshow(digits.images[5])\n",
        "plt.show()"
      ],
      "metadata": {
        "colab": {
          "base_uri": "https://localhost:8080/",
          "height": 472
        },
        "id": "jNGWCh0ba1FW",
        "outputId": "e41b538e-03d7-49b1-e0bb-71135f52f402"
      },
      "execution_count": null,
      "outputs": [
        {
          "output_type": "stream",
          "name": "stdout",
          "text": [
            "(1797, 64)\n"
          ]
        },
        {
          "output_type": "display_data",
          "data": {
            "text/plain": [
              "<Figure size 640x480 with 0 Axes>"
            ]
          },
          "metadata": {}
        },
        {
          "output_type": "display_data",
          "data": {
            "text/plain": [
              "<Figure size 480x480 with 1 Axes>"
            ],
            "image/png": "[encoded data removed]"
          },
          "metadata": {}
        }
      ]
    },
    {
      "cell_type": "code",
      "source": [
        "n_samples = len(digits.images)\n",
        "data = digits.images.reshape((n_samples, -1))\n",
        "X_train, X_test, y_train, y_test = train_test_split(\n",
        "    data, digits.target, test_size=0.5)"
      ],
      "metadata": {
        "id": "mI_XkAY_cW1I"
      },
      "execution_count": null,
      "outputs": []
    },
    {
      "cell_type": "code",
      "source": [
        "scaler = StandardScaler()\n",
        "X_train = scaler.fit_transform(X_train)\n",
        "X_test = scaler.transform(X_test)\n",
        "logreg = LogisticRegression(C=1.0, max_iter=1000, tol=1e-4)  # Adjust hyperparameters as needed\n",
        "logreg.fit(X_train, y_train)\n",
        "logreg.score(X_train,y_train)"
      ],
      "metadata": {
        "colab": {
          "base_uri": "https://localhost:8080/"
        },
        "id": "9GCw7QFld1ax",
        "outputId": "c7b7820b-17ac-4011-c818-f81238a2cf53"
      },
      "execution_count": null,
      "outputs": [
        {
          "output_type": "execute_result",
          "data": {
            "text/plain": [
              "1.0"
            ]
          },
          "metadata": {},
          "execution_count": 7
        }
      ]
    },
    {
      "cell_type": "code",
      "source": [
        "logreg.score(X_test,y_test)"
      ],
      "metadata": {
        "colab": {
          "base_uri": "https://localhost:8080/"
        },
        "id": "hX8rAsYceO9V",
        "outputId": "60eb7b74-22a3-4474-a4b4-f7bcecd018d9"
      },
      "execution_count": null,
      "outputs": [
        {
          "output_type": "execute_result",
          "data": {
            "text/plain": [
              "0.9655172413793104"
            ]
          },
          "metadata": {},
          "execution_count": 8
        }
      ]
    },
    {
      "cell_type": "code",
      "source": [
        "y_pred = logreg.predict(X_test)"
      ],
      "metadata": {
        "id": "o04dwZ9wfg6e"
      },
      "execution_count": null,
      "outputs": []
    },
    {
      "cell_type": "code",
      "source": [
        "#printing classification report\n",
        "from sklearn.metrics import classification_report\n",
        "print(classification_report(y_test,y_pred))"
      ],
      "metadata": {
        "colab": {
          "base_uri": "https://localhost:8080/"
        },
        "id": "JIFofcM_ftVV",
        "outputId": "2c947ab6-a965-42cc-88f9-64772d178b2b"
      },
      "execution_count": null,
      "outputs": [
        {
          "output_type": "stream",
          "name": "stdout",
          "text": [
            "              precision    recall  f1-score   support\n",
            "\n",
            "           0       1.00      0.99      0.99        83\n",
            "           1       0.94      0.88      0.91        93\n",
            "           2       0.97      1.00      0.98        88\n",
            "           3       1.00      0.98      0.99        88\n",
            "           4       0.99      0.99      0.99        87\n",
            "           5       0.96      0.96      0.96        96\n",
            "           6       0.98      1.00      0.99        85\n",
            "           7       1.00      0.99      0.99        92\n",
            "           8       0.99      0.90      0.94        91\n",
            "           9       0.86      0.98      0.92        96\n",
            "\n",
            "    accuracy                           0.97       899\n",
            "   macro avg       0.97      0.97      0.97       899\n",
            "weighted avg       0.97      0.97      0.97       899\n",
            "\n"
          ]
        }
      ]
    },
    {
      "cell_type": "code",
      "source": [
        "disp = metrics.ConfusionMatrixDisplay.from_predictions(y_test, y_pred)\n",
        "disp.figure_.suptitle(\"Confusion Matrix\")\n",
        "print(f\"Confusion matrix:\\n{disp.confusion_matrix}\")\n",
        "\n",
        "plt.show()"
      ],
      "metadata": {
        "colab": {
          "base_uri": "https://localhost:8080/",
          "height": 688
        },
        "id": "H8ggtMJRgDNu",
        "outputId": "ec241e1a-f275-4354-87c5-1a6818ee0745"
      },
      "execution_count": null,
      "outputs": [
        {
          "output_type": "stream",
          "name": "stdout",
          "text": [
            "Confusion matrix:\n",
            "[[82  0  1  0  0  0  0  0  0  0]\n",
            " [ 0 82  1  0  0  0  0  0  0 10]\n",
            " [ 0  0 88  0  0  0  0  0  0  0]\n",
            " [ 0  0  0 86  0  2  0  0  0  0]\n",
            " [ 0  0  0  0 86  0  0  0  0  1]\n",
            " [ 0  0  0  0  0 92  1  0  0  3]\n",
            " [ 0  0  0  0  0  0 85  0  0  0]\n",
            " [ 0  0  0  0  1  0  0 91  0  0]\n",
            " [ 0  5  1  0  0  1  1  0 82  1]\n",
            " [ 0  0  0  0  0  1  0  0  1 94]]\n"
          ]
        },
        {
          "output_type": "display_data",
          "data": {
            "text/plain": [
              "<Figure size 640x480 with 2 Axes>"
            ],
            "image/png": "[encoded data removed]"
          },
          "metadata": {}
        }
      ]
    },
    {
      "cell_type": "code",
      "source": [
        "from sklearn.tree import DecisionTreeClassifier\n",
        "clf = DecisionTreeClassifier(random_state=0)\n",
        "clf = clf.fit(X_train,y_train)\n",
        "y_pred = clf.predict(X_test)"
      ],
      "metadata": {
        "id": "S0TrVJdwh_nr"
      },
      "execution_count": null,
      "outputs": []
    },
    {
      "cell_type": "code",
      "source": [
        "from sklearn import metrics\n",
        "print(\"Accuracy:\",metrics.accuracy_score(y_test, y_pred))"
      ],
      "metadata": {
        "colab": {
          "base_uri": "https://localhost:8080/"
        },
        "id": "V3QoS49J2mdS",
        "outputId": "e1970a51-95ec-4287-a38a-8444fcb2d019"
      },
      "execution_count": null,
      "outputs": [
        {
          "output_type": "stream",
          "name": "stdout",
          "text": [
            "Accuracy: 0.8342602892102335\n"
          ]
        }
      ]
    },
    {
      "cell_type": "code",
      "source": [
        "print(classification_report(y_test,y_pred))"
      ],
      "metadata": {
        "colab": {
          "base_uri": "https://localhost:8080/"
        },
        "id": "kOgJG6fJ2zec",
        "outputId": "8d2becc6-c3d8-4619-cb8a-189ed7bc1cdb"
      },
      "execution_count": null,
      "outputs": [
        {
          "output_type": "stream",
          "name": "stdout",
          "text": [
            "              precision    recall  f1-score   support\n",
            "\n",
            "           0       0.98      0.95      0.96        83\n",
            "           1       0.72      0.83      0.77        93\n",
            "           2       0.84      0.75      0.79        88\n",
            "           3       0.74      0.83      0.78        88\n",
            "           4       0.81      0.91      0.86        87\n",
            "           5       0.89      0.91      0.90        96\n",
            "           6       0.91      0.93      0.92        85\n",
            "           7       0.93      0.84      0.88        92\n",
            "           8       0.75      0.74      0.74        91\n",
            "           9       0.84      0.69      0.75        96\n",
            "\n",
            "    accuracy                           0.83       899\n",
            "   macro avg       0.84      0.84      0.84       899\n",
            "weighted avg       0.84      0.83      0.83       899\n",
            "\n"
          ]
        }
      ]
    },
    {
      "cell_type": "code",
      "source": [
        "from sklearn.preprocessing import MinMaxScaler\n",
        "x_train_normalized  = MinMaxScaler().fit_transform(X_train)\n",
        "x_test_normalized = MinMaxScaler().fit_transform(X_test)\n",
        "clf = DecisionTreeClassifier(criterion=\"entropy\", max_depth=12)\n",
        "clf = clf.fit(x_train_normalized,y_train)\n",
        "y_pred = clf.predict(x_test_normalized)\n",
        "print(\"Accuracy:\",metrics.accuracy_score(y_test, y_pred))"
      ],
      "metadata": {
        "colab": {
          "base_uri": "https://localhost:8080/"
        },
        "id": "0K_ar2603Aed",
        "outputId": "2a9b297c-5a54-4fe7-98a8-2da8ba771287"
      },
      "execution_count": null,
      "outputs": [
        {
          "output_type": "stream",
          "name": "stdout",
          "text": [
            "Accuracy: 0.8387096774193549\n"
          ]
        }
      ]
    },
    {
      "cell_type": "code",
      "source": [
        "from sklearn.ensemble import RandomForestClassifier\n",
        "from sklearn.metrics import accuracy_score\n",
        "rf = RandomForestClassifier()\n",
        "rf.fit(X_train, y_train)\n",
        "y_pred = rf.predict(X_test)"
      ],
      "metadata": {
        "id": "PC3f_h6eJG9z"
      },
      "execution_count": null,
      "outputs": []
    },
    {
      "cell_type": "code",
      "source": [
        "accuracy = accuracy_score(y_test, y_pred)\n",
        "print(\"Accuracy:\", accuracy)"
      ],
      "metadata": {
        "colab": {
          "base_uri": "https://localhost:8080/"
        },
        "id": "OwC224W1J6G9",
        "outputId": "a5a4858c-e164-4a7e-f3fc-9bf143d72359"
      },
      "execution_count": null,
      "outputs": [
        {
          "output_type": "stream",
          "name": "stdout",
          "text": [
            "Accuracy: 0.9666295884315906\n"
          ]
        }
      ]
    },
    {
      "cell_type": "code",
      "source": [
        "num_estimators = rf.n_estimators\n",
        "\n",
        "print(\"Number of estimators used:\", num_estimators)"
      ],
      "metadata": {
        "colab": {
          "base_uri": "https://localhost:8080/"
        },
        "id": "SPeQKSRYLlm9",
        "outputId": "b19aa4a1-c231-4285-ecb0-741eaa898de1"
      },
      "execution_count": null,
      "outputs": [
        {
          "output_type": "stream",
          "name": "stdout",
          "text": [
            "Number of estimators used: 100\n"
          ]
        }
      ]
    },
    {
      "cell_type": "code",
      "source": [
        "rf2 = RandomForestClassifier(n_estimators=40)\n",
        "rf2.fit(X_train, y_train)\n",
        "y_pred = rf2.predict(X_test)\n",
        "accuracy = accuracy_score(y_test, y_pred)\n",
        "print(\"Accuracy:\", accuracy)"
      ],
      "metadata": {
        "colab": {
          "base_uri": "https://localhost:8080/"
        },
        "id": "3J9NvseoLE_D",
        "outputId": "d316fa9b-eb54-4781-a1c7-6f6ea25314d2"
      },
      "execution_count": null,
      "outputs": [
        {
          "output_type": "stream",
          "name": "stdout",
          "text": [
            "Accuracy: 0.9610678531701891\n"
          ]
        }
      ]
    },
    {
      "cell_type": "code",
      "source": [
        "import xgboost as xgb\n",
        "xgb_model = xgb.XGBClassifier(objective='binary:logistic', random_state=42)\n",
        "xgb_model.fit(X_train, y_train)\n",
        "y_pred = xgb_model.predict(X_test)\n",
        "accuracy = accuracy_score(y_test, y_pred)\n",
        "print(\"Accuracy:\", accuracy)"
      ],
      "metadata": {
        "colab": {
          "base_uri": "https://localhost:8080/"
        },
        "id": "Ltv13u6WMXGT",
        "outputId": "da38e34e-d33f-48c7-e502-fba8a983fbd8"
      },
      "execution_count": null,
      "outputs": [
        {
          "output_type": "stream",
          "name": "stdout",
          "text": [
            "Accuracy: 0.9510567296996663\n"
          ]
        }
      ]
    }
  ]
}